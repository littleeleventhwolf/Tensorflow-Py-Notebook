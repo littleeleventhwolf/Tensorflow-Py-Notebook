{
 "cells": [
  {
   "cell_type": "markdown",
   "metadata": {},
   "source": [
    "# Keras实现：用部分卷积补全图像不规则缺损\n",
    "\n",
    "图像补全是一个热门研究领域，今年4月，NVIDIA发表了一篇精彩的论文：\n",
    "[Image Inpainting for Irregular Holes Using Partial Convolutions](https://arxiv.org/abs/1804.07723)。文章指出，以往图像补全技术都是用残缺位置周边的有效像素统计信息填充目标区域，这种做法虽然结果平滑，但存在效果不逼真、有伪像，且后期处理代价昂贵的缺点。因此他们用大量不规则掩膜图像训练了一个深度神经网络，它能为图像生成合理掩膜，再结合仅以有效像素为条件的部分卷积（Partial Convolutions），最终模型的图像补全效果远超前人的成果。\n",
    "\n",
    "而近日，有网友复现了这篇论文，并在GitHub上公开了他的Keras实现，感兴趣的读者前去一看：[PConv-Keras](https://github.com/MathiasGruber/PConv-Keras)。\n",
    "\n",
    "![NVIDIA论文](./Keras实现-用部分卷积补全图像不规则缺损/NVIDIA论文.jpg)\n",
    "\n",
    "## 环境\n",
    "\n",
    "* Python 3.6\n",
    "* Keras 2.2.0\n",
    "* Tensorflow 1.8\n",
    "\n",
    "## 如何使用这个repo\n",
    "\n",
    "repo中包含了PConv2D keras实现可以在libs/pconv_layer.py和libs/pconv_model.py中找到。除此之外，作者还提供了四个Jupyter Notebook，详细介绍了实现网络时经历的几个步骤，即：\n",
    "\n",
    "* step 1：创建随机不规则掩膜\n",
    "* step 2：实现和测试PConv2D层\n",
    "* step 3：实现和测试采用UNet架构的PConv2D层\n",
    "* step 4：在ImageNet上训练和测试最终模型\n",
    "\n",
    "## 实现细节\n",
    "\n",
    "在设计图像补全算法时，研究人员首先要考虑两个因素：从哪里找到可利用的信息；怎么评判整体补全效果。无论是天然破损的图像，还是被人为打上马赛克的图像，这之中都涉及图像语义上的预测。\n",
    "\n",
    "这篇论文发表之前，学界在图像补全上的最先进方法之一是利用剩余的像素统计信息来填充残缺部分，这利用了同一幅图像素间的连接性，但缺点是只反映了统计上的联系，无法真正实现语义上的估计。后来也有人引入深度学习的方法，训练一个深度神经网络，以端到端的方式学习语义先验和有意义的隐藏表示，但它局限于初始值，而且使用的是固定的替换值，效果依然不佳。\n",
    "\n",
    "NVIDIA在论文中提出了一种新技巧：添加部分卷积层（Partial Convolutional Layer），并在这一层之后加上一个掩膜更新步骤。部分卷积层包含生成掩膜和重新归一化，它类似图像语义分割任务中的[segmentation-aware convolutional](https://arxiv.org/abs/1708.04607)（分段感知卷积），能在不改变输入掩膜的情况下分割图像信息。\n",
    "\n",
    "简而言之，给定一个二元掩膜，部分卷积层的卷积结果只取决于每一层的非残缺区域。相比segmentation-aware convolutional，NVIDIA的创新之处是自动掩膜更新步骤，它可以消除部分卷积能够在非掩膜值上操作的任何掩膜。\n",
    "\n",
    "具体设计过程可以阅读论文看看，下面我们只总结一些细节。\n",
    "\n",
    "### 生成掩膜\n",
    "\n",
    "为了训练能生成不规则掩膜的深度神经网络，论文研究人员截取视频中的两个连续帧，用遮挡/解除遮挡创建大量不规则掩膜，虽然他们在论文中称将公开这个数据集，但现在我们还找不到相关资源。\n",
    "\n",
    "在这个Keras实现中，作者简单创建了一个遮挡生成函数，用OpenCV绘制一些随机的不规则形状，以此作为掩膜数据，效果目前看来还不错。\n",
    "\n",
    "### 部分卷积层\n",
    "\n",
    "这个实现中最关键的部分就是论文的重点“部分卷积层”。"
   ]
  }
 ],
 "metadata": {
  "kernelspec": {
   "display_name": "Python 3",
   "language": "python",
   "name": "python3"
  },
  "language_info": {
   "codemirror_mode": {
    "name": "ipython",
    "version": 3
   },
   "file_extension": ".py",
   "mimetype": "text/x-python",
   "name": "python",
   "nbconvert_exporter": "python",
   "pygments_lexer": "ipython3",
   "version": "3.6.6"
  }
 },
 "nbformat": 4,
 "nbformat_minor": 2
}
